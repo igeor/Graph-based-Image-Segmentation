{
 "cells": [
  {
   "attachments": {},
   "cell_type": "markdown",
   "metadata": {},
   "source": [
    "### Load Image"
   ]
  },
  {
   "cell_type": "code",
   "execution_count": 5,
   "metadata": {},
   "outputs": [
    {
     "data": {
      "text/plain": [
       "<matplotlib.image.AxesImage at 0x1f64400a590>"
      ]
     },
     "execution_count": 5,
     "metadata": {},
     "output_type": "execute_result"
    },
    {
     "data": {
      "image/png": "[encoded data removed]",
      "text/plain": [
       "<Figure size 640x480 with 1 Axes>"
      ]
     },
     "metadata": {},
     "output_type": "display_data"
    }
   ],
   "source": [
    "import cv2 as cv \n",
    "import numpy as np\n",
    "import matplotlib.pyplot as plt\n",
    "\n",
    "image = cv.imread('lena.png')\n",
    "# Convert to rgb \n",
    "image = cv.cvtColor(image, cv.COLOR_BGR2RGB)\n",
    "\n",
    "# Resize image to 12 x 12 \n",
    "image = cv.resize(image, (64, 64))\n",
    "\n",
    "plt.imshow(image)"
   ]
  },
  {
   "cell_type": "code",
   "execution_count": 50,
   "metadata": {},
   "outputs": [],
   "source": [
    "class Cluster():\n",
    "    def __init__(self, cluster_idx, node_idx):\n",
    "        self.id = cluster_idx\n",
    "        self.node_idx = node_idx\n",
    "        self.nodes_idxs = [node_idx]\n",
    "        self.rgb = image[node_idx[0], node_idx[1]]\n",
    "            \n",
    "    def add_node(self, node_idx, rgb):\n",
    "        self.nodes.append(node_idx)\n",
    "        self.__update_rgb()\n",
    "    \n",
    "    def __update_rgb(self):\n",
    "        # Update rgb value of cluster\n",
    "        rgb = np.zeros((3, 1))\n",
    "        for node in self.nodes:\n",
    "            rgb += node.rgb\n",
    "        self.rgb = rgb / len(self.nodes)"
   ]
  },
  {
   "cell_type": "code",
   "execution_count": 51,
   "metadata": {},
   "outputs": [
    {
     "name": "stdout",
     "output_type": "stream",
     "text": [
      "0.3383244272228801\n"
     ]
    }
   ],
   "source": [
    "# Define affinity (simiarity) of 2 pixels\n",
    "def affinity(pixel1, pixel2, sigma=100):\n",
    "    dist = np.linalg.norm(pixel1 - pixel2)\n",
    "    return np.exp((-dist**2) / (2 * sigma ** 2))\n",
    "\n",
    "# Test affinity function\n",
    "pixel1 = np.array([170, 170, 170])\n",
    "pixel2 = np.array([255, 255, 255])\n",
    "print(affinity(pixel1, pixel2))"
   ]
  },
  {
   "cell_type": "code",
   "execution_count": 53,
   "metadata": {},
   "outputs": [
    {
     "name": "stdout",
     "output_type": "stream",
     "text": [
      "Number of clusters:  4096\n"
     ]
    }
   ],
   "source": [
    "import networkx as nx \n",
    "\n",
    "G = nx.Graph()\n",
    "\n",
    "cluser_idx = 0\n",
    "for i in range(image.shape[0]):\n",
    "    for j in range(image.shape[1]):\n",
    "        \n",
    "        pixel_idx = (i, j)\n",
    "\n",
    "        cluster = Cluster(cluser_idx, pixel_idx)\n",
    "        \n",
    "        G.add_node(\n",
    "            (i,j), \n",
    "            rgb=image[i, j], \n",
    "            cluster=cluster\n",
    "        )\n",
    "        \n",
    "        cluser_idx += 1 \n",
    "\n",
    "print('Number of clusters: ', len(G.nodes()))"
   ]
  },
  {
   "cell_type": "code",
   "execution_count": 54,
   "metadata": {},
   "outputs": [
    {
     "name": "stdout",
     "output_type": "stream",
     "text": [
      "Number of edges: 16002\n"
     ]
    }
   ],
   "source": [
    "k = 1\n",
    "\n",
    "edges = set()\n",
    "\n",
    "for i in range(image.shape[0]):\n",
    "    for j in range(image.shape[1]):\n",
    "\n",
    "        # Add all pixels within a k x k window to the set of edges\n",
    "        for r in range(max(0, i-k), min(image.shape[0], i+k+1)):\n",
    "            for c in range(max(0, j-k), min(image.shape[1], j+k+1)):\n",
    "                \n",
    "                # Prevent adding the same pixel as an edge\n",
    "                if r == i and c == j:\n",
    "                    continue\n",
    "                \n",
    "                G.add_edge(\n",
    "                    (i,j), (r,c), \n",
    "                    weight = affinity(image[i, j], image[r, c])\n",
    "                )\n",
    "\n",
    "print(f'Number of edges: {len(G.edges())}')"
   ]
  },
  {
   "cell_type": "code",
   "execution_count": 58,
   "metadata": {},
   "outputs": [
    {
     "name": "stdout",
     "output_type": "stream",
     "text": [
      "Number of nodes in cluster 1: [(17, 0)]\n",
      "Number of nodes in cluster 2: [(18, 1)]\n"
     ]
    }
   ],
   "source": [
    "# Sort Graph edges by weight (decreasing order) \n",
    "sorted_edges = sorted(G.edges(data=True), key=lambda x: x[2]['weight'], reverse=True)\n",
    "\n",
    "# Iterate over all edges\n",
    "for edge in sorted_edges:\n",
    "    # Get the 2 nodes of the edge\n",
    "    node1, node2 = edge[0], edge[1]\n",
    "    # Check if nodes belong to different clusters\n",
    "    if G.nodes[node1]['cluster'] != G.nodes[node2]['cluster']:\n",
    "        \n",
    "        cluster_1 = G.nodes[node1]['cluster']\n",
    "        cluster_2 = G.nodes[node2]['cluster']\n",
    "\n",
    "        # Get the nodes of the clusters\n",
    "        nodes_1 = cluster_1.nodes_idxs\n",
    "        nodes_2 = cluster_2.nodes_idxs\n",
    "        print(f'Number of nodes in cluster 1: {nodes_1}')\n",
    "        print(f'Number of nodes in cluster 2: {nodes_2}')\n",
    "        break"
   ]
  },
  {
   "cell_type": "code",
   "execution_count": 39,
   "metadata": {},
   "outputs": [
    {
     "name": "stdout",
     "output_type": "stream",
     "text": [
      "Number of disconnected components: 1\n"
     ]
    }
   ],
   "source": []
  },
  {
   "cell_type": "code",
   "execution_count": null,
   "metadata": {},
   "outputs": [],
   "source": [
    "# For "
   ]
  }
 ],
 "metadata": {
  "kernelspec": {
   "display_name": "Python 3",
   "language": "python",
   "name": "python3"
  },
  "language_info": {
   "codemirror_mode": {
    "name": "ipython",
    "version": 3
   },
   "file_extension": ".py",
   "mimetype": "text/x-python",
   "name": "python",
   "nbconvert_exporter": "python",
   "pygments_lexer": "ipython3",
   "version": "3.11.1"
  },
  "orig_nbformat": 4
 },
 "nbformat": 4,
 "nbformat_minor": 2
}
